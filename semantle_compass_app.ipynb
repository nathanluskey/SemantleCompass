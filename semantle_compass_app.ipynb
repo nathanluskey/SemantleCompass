{
 "cells": [
  {
   "cell_type": "code",
   "execution_count": null,
   "metadata": {},
   "outputs": [],
   "source": [
    "from gensim import downloader\n",
    "from gensim.similarities.annoy import AnnoyIndexer\n",
    "import os\n",
    "import ipywidgets as widgets\n",
    "from IPython.display import display\n",
    "import json"
   ]
  },
  {
   "cell_type": "code",
   "execution_count": null,
   "metadata": {},
   "outputs": [],
   "source": [
    "# Choose the version\n",
    "version_widget = widgets.Dropdown(\n",
    "    options=['normal', 'junior'],\n",
    "    value='junior',\n",
    "    description='Semantle Version:',\n",
    "    disabled=False,\n",
    ")\n",
    "display(version_widget)"
   ]
  },
  {
   "cell_type": "code",
   "execution_count": null,
   "metadata": {},
   "outputs": [],
   "source": [
    "with open('./targets.json', 'r') as file:\n",
    "    data = json.load(file)\n",
    "\n",
    "target = data[version_widget.value]"
   ]
  },
  {
   "cell_type": "code",
   "execution_count": null,
   "metadata": {},
   "outputs": [],
   "source": [
    "print(\"Downloading word2vec model\", end=\"\\r\")\n",
    "\n",
    "model = downloader.load('word2vec-google-news-300')\n",
    "\n",
    "print(\"Downloaded word2vec model \")\n",
    "\n",
    "fname = './tmp/mymodel.index'\n",
    "\n",
    "if os.path.exists(fname):\n",
    "    print(\"Loading random forest for approximate nearest neighbors\")\n",
    "    annoy_index = AnnoyIndexer()\n",
    "    annoy_index.load(fname)\n",
    "    annoy_index.model = model\n",
    "else:\n",
    "    print(\"Creating random forest for approximate nearest neighbors\")   \n",
    "    # 100 trees are being used in this example\n",
    "    annoy_index = AnnoyIndexer(model, 10)\n",
    "    # Persist index to disk\n",
    "    annoy_index.save(fname)\n",
    "\n",
    "print(\"All set!\")"
   ]
  },
  {
   "cell_type": "code",
   "execution_count": null,
   "metadata": {},
   "outputs": [],
   "source": [
    "input_values = []\n",
    "text_input = widgets.Text(description=\"Guess: \")\n",
    "output = widgets.Output()"
   ]
  },
  {
   "cell_type": "code",
   "execution_count": null,
   "metadata": {},
   "outputs": [],
   "source": [
    "def on_text_submit(sender):\n",
    "    \n",
    "    guess = text_input.value.lower()\n",
    "    output_str = f\"({len(input_values) + 1})\"\n",
    "    if guess == target:\n",
    "        input_values.insert(0, f\"{output_str} SUCCESS {target}!\")\n",
    "        text_input.disabled = True\n",
    "    else:\n",
    "        try:\n",
    "            approx_direction = model[target] - model[guess]\n",
    "            approximate_neighbors = model.most_similar([approx_direction], topn=3, indexer=annoy_index)\n",
    "            approximate_neighbors_str = \" \".join([x[0].lower() for x in approximate_neighbors])\n",
    "            input_values.insert(0, f\"{output_str} {approximate_neighbors_str}\")\n",
    "        except Exception:\n",
    "            input_values.insert(0, f\"{output_str} {guess} not found\")\n",
    "    \n",
    "    output.clear_output()\n",
    "    with output:\n",
    "        print(\"\\n\".join(input_values))\n",
    "\n"
   ]
  },
  {
   "cell_type": "code",
   "execution_count": null,
   "metadata": {},
   "outputs": [],
   "source": [
    "text_input.continuous_update = False\n",
    "text_input.observe(on_text_submit)"
   ]
  },
  {
   "cell_type": "code",
   "execution_count": null,
   "metadata": {},
   "outputs": [],
   "source": [
    "display(text_input)\n",
    "display(output)"
   ]
  },
  {
   "cell_type": "code",
   "execution_count": null,
   "metadata": {},
   "outputs": [],
   "source": []
  }
 ],
 "metadata": {
  "kernelspec": {
   "display_name": "semantle",
   "language": "python",
   "name": "python3"
  },
  "language_info": {
   "codemirror_mode": {
    "name": "ipython",
    "version": 3
   },
   "file_extension": ".py",
   "mimetype": "text/x-python",
   "name": "python",
   "nbconvert_exporter": "python",
   "pygments_lexer": "ipython3",
   "version": "3.12.0"
  },
  "orig_nbformat": 4
 },
 "nbformat": 4,
 "nbformat_minor": 2
}
