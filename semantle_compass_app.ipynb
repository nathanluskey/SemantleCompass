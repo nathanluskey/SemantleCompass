{
 "cells": [
  {
   "cell_type": "code",
   "execution_count": 1,
   "metadata": {},
   "outputs": [],
   "source": [
    "from gensim import downloader\n",
    "from gensim.similarities.annoy import AnnoyIndexer\n",
    "import os\n",
    "import json\n",
    "import gradio as gr"
   ]
  },
  {
   "cell_type": "code",
   "execution_count": 2,
   "metadata": {},
   "outputs": [],
   "source": [
    "target_words = dict()\n",
    "with open('./targets.json', 'r') as file:\n",
    "    target_words = json.load(file)"
   ]
  },
  {
   "cell_type": "code",
   "execution_count": 7,
   "metadata": {},
   "outputs": [
    {
     "name": "stdout",
     "output_type": "stream",
     "text": [
      "Downloaded word2vec model \n",
      "Creating random forest for approximate nearest neighbors\n",
      "All set!\n"
     ]
    }
   ],
   "source": [
    "num_trees = 10\n",
    "\n",
    "print(\"Downloading word2vec model\", end=\"\\r\")\n",
    "\n",
    "model = downloader.load('word2vec-google-news-300')\n",
    "\n",
    "print(\"Downloaded word2vec model \")\n",
    "\n",
    "file_name = f'./tmp/my_model_{num_trees}'\n",
    "\n",
    "if os.path.exists(file_name):\n",
    "    print(\"Loading random forest for approximate nearest neighbors\")\n",
    "    annoy_index = AnnoyIndexer()\n",
    "    annoy_index.load(file_name)\n",
    "    annoy_index.model = model\n",
    "else:\n",
    "    print(\"Creating random forest for approximate nearest neighbors\")   \n",
    "    annoy_index = AnnoyIndexer(model, num_trees)\n",
    "    # Persist index to disk\n",
    "    annoy_index.save(file_name)\n",
    "\n",
    "print(\"All set!\")"
   ]
  },
  {
   "cell_type": "code",
   "execution_count": 18,
   "metadata": {},
   "outputs": [],
   "source": [
    "input_values = []\n",
    "nearest_neighbors = dict()\n",
    "target = None\n",
    "\n",
    "def choose_model(is_junior: bool = True) -> str:\n",
    "    target_level = \"junior\" if is_junior else \"normal\"\n",
    "    global target\n",
    "    target = target_words[target_level]\n",
    "    closest_words = model.most_similar([target], topn=100, indexer=annoy_index)\n",
    "    global nearest_neighbors\n",
    "    for i, (neighbor,_) in enumerate(closest_words):\n",
    "        nearest_neighbors[neighbor] = i+1\n",
    "    return f\"Chose {target_level}\"\n",
    "\n",
    "def on_text_submit(guess: str) -> str:\n",
    "    output_str = f\"({len(input_values) + 1})\"\n",
    "    if guess == target:\n",
    "        input_values.insert(0, f\"{output_str} SUCCESS {target}!\")\n",
    "    else:\n",
    "        try:\n",
    "            approx_direction = model[target] - model[guess]\n",
    "            approximate_neighbors = model.most_similar([approx_direction], topn=3, indexer=annoy_index)\n",
    "            approximate_neighbors_str = \", \".join([x[0].lower() for x in approximate_neighbors])\n",
    "            if guess in nearest_neighbors.keys():\n",
    "                how_far = nearest_neighbors[guess]\n",
    "                approximate_neighbors_str = f\"{how_far}/100 {approximate_neighbors_str}\"\n",
    "            input_values.insert(0, f\"{output_str} {guess}: {approximate_neighbors_str}\")\n",
    "        except Exception:\n",
    "            input_values.insert(0, f\"{output_str} {guess} not found\")\n",
    "    \n",
    "    return \"\\n\".join(input_values)"
   ]
  },
  {
   "cell_type": "code",
   "execution_count": 19,
   "metadata": {},
   "outputs": [
    {
     "name": "stderr",
     "output_type": "stream",
     "text": [
      "/Users/nathanluskey/opt/anaconda3/envs/semantle/lib/python3.12/site-packages/gradio/blocks.py:1033: UserWarning: api_name predict already exists, using predict_1\n",
      "  warnings.warn(\n"
     ]
    },
    {
     "name": "stdout",
     "output_type": "stream",
     "text": [
      "Running on local URL:  http://127.0.0.1:7862\n",
      "\n",
      "To create a public link, set `share=True` in `launch()`.\n"
     ]
    },
    {
     "data": {
      "text/html": [
       "<div><iframe src=\"http://127.0.0.1:7862/\" width=\"100%\" height=\"500\" allow=\"autoplay; camera; microphone; clipboard-read; clipboard-write;\" frameborder=\"0\" allowfullscreen></iframe></div>"
      ],
      "text/plain": [
       "<IPython.core.display.HTML object>"
      ]
     },
     "metadata": {},
     "output_type": "display_data"
    },
    {
     "data": {
      "text/plain": []
     },
     "execution_count": 19,
     "metadata": {},
     "output_type": "execute_result"
    },
    {
     "name": "stderr",
     "output_type": "stream",
     "text": [
      "/Users/nathanluskey/opt/anaconda3/envs/semantle/lib/python3.12/site-packages/gradio/components/button.py:89: UserWarning: Using the update method is deprecated. Simply return a new object instead, e.g. `return gr.Button(...)` instead of `return gr.Button.update(...)`.\n",
      "  warnings.warn(\n"
     ]
    }
   ],
   "source": [
    "chooose_level = gr.Interface(\n",
    "    fn=choose_model,\n",
    "    inputs=\"checkbox\",\n",
    "    outputs=\"text\",\n",
    ")\n",
    "\n",
    "play_game = gr.Interface(\n",
    "    fn=on_text_submit,\n",
    "    inputs=\"text\",\n",
    "    outputs=\"text\",\n",
    "    )\n",
    "\n",
    "demo = gr.TabbedInterface(\n",
    "    [chooose_level, play_game],\n",
    "    [\"Choose Level\", \"Play Game\"],\n",
    ")  \n",
    "demo.launch()"
   ]
  },
  {
   "cell_type": "code",
   "execution_count": null,
   "metadata": {},
   "outputs": [],
   "source": []
  }
 ],
 "metadata": {
  "kernelspec": {
   "display_name": "semantle",
   "language": "python",
   "name": "python3"
  },
  "language_info": {
   "codemirror_mode": {
    "name": "ipython",
    "version": 3
   },
   "file_extension": ".py",
   "mimetype": "text/x-python",
   "name": "python",
   "nbconvert_exporter": "python",
   "pygments_lexer": "ipython3",
   "version": "3.12.0"
  },
  "orig_nbformat": 4
 },
 "nbformat": 4,
 "nbformat_minor": 2
}
