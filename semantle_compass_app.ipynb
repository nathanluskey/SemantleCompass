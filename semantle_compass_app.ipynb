{
 "cells": [
  {
   "cell_type": "code",
   "execution_count": 1,
   "metadata": {},
   "outputs": [],
   "source": [
    "from gensim import downloader\n",
    "from gensim.similarities.annoy import AnnoyIndexer\n",
    "import os\n",
    "import json\n",
    "import gradio as gr"
   ]
  },
  {
   "cell_type": "code",
   "execution_count": 2,
   "metadata": {},
   "outputs": [],
   "source": [
    "target_words = dict()\n",
    "with open('./targets.json', 'r') as file:\n",
    "    target_words = json.load(file)"
   ]
  },
  {
   "cell_type": "code",
   "execution_count": 3,
   "metadata": {},
   "outputs": [
    {
     "name": "stdout",
     "output_type": "stream",
     "text": [
      "Downloaded word2vec model \n",
      "Loading random forest for approximate nearest neighbors\n",
      "All set!\n"
     ]
    }
   ],
   "source": [
    "print(\"Downloading word2vec model\", end=\"\\r\")\n",
    "\n",
    "model = downloader.load('word2vec-google-news-300')\n",
    "\n",
    "print(\"Downloaded word2vec model \")\n",
    "\n",
    "fname = './tmp/mymodel.index'\n",
    "\n",
    "if os.path.exists(fname):\n",
    "    print(\"Loading random forest for approximate nearest neighbors\")\n",
    "    annoy_index = AnnoyIndexer()\n",
    "    annoy_index.load(fname)\n",
    "    annoy_index.model = model\n",
    "else:\n",
    "    print(\"Creating random forest for approximate nearest neighbors\")   \n",
    "    # 100 trees are being used in this example\n",
    "    annoy_index = AnnoyIndexer(model, 10)\n",
    "    # Persist index to disk\n",
    "    annoy_index.save(fname)\n",
    "\n",
    "print(\"All set!\")"
   ]
  },
  {
   "cell_type": "code",
   "execution_count": 4,
   "metadata": {},
   "outputs": [],
   "source": [
    "input_values = []\n",
    "\n",
    "def on_text_submit(guess: str, is_junior: bool):\n",
    "    \n",
    "    # get the target word\n",
    "    target_level = \"junior\" if is_junior else \"normal\"\n",
    "    target = target_words[target_level]\n",
    "    \n",
    "    output_str = f\"({len(input_values) + 1})\"\n",
    "    if guess == target:\n",
    "        input_values.insert(0, f\"{output_str} SUCCESS {target}!\")\n",
    "    else:\n",
    "        try:\n",
    "            approx_direction = model[target] - model[guess]\n",
    "            approximate_neighbors = model.most_similar([approx_direction], topn=3, indexer=annoy_index)\n",
    "            approximate_neighbors_str = \" \".join([x[0].lower() for x in approximate_neighbors])\n",
    "            input_values.insert(0, f\"{output_str} {guess}: {approximate_neighbors_str}\")\n",
    "        except Exception:\n",
    "            input_values.insert(0, f\"{output_str} {guess} not found\")\n",
    "    \n",
    "    return \"\\n\".join(input_values)"
   ]
  },
  {
   "cell_type": "code",
   "execution_count": 6,
   "metadata": {},
   "outputs": [
    {
     "name": "stdout",
     "output_type": "stream",
     "text": [
      "Running on local URL:  http://127.0.0.1:7861\n",
      "\n",
      "To create a public link, set `share=True` in `launch()`.\n"
     ]
    },
    {
     "data": {
      "text/html": [
       "<div><iframe src=\"http://127.0.0.1:7861/\" width=\"100%\" height=\"500\" allow=\"autoplay; camera; microphone; clipboard-read; clipboard-write;\" frameborder=\"0\" allowfullscreen></iframe></div>"
      ],
      "text/plain": [
       "<IPython.core.display.HTML object>"
      ]
     },
     "metadata": {},
     "output_type": "display_data"
    },
    {
     "data": {
      "text/plain": []
     },
     "execution_count": 6,
     "metadata": {},
     "output_type": "execute_result"
    }
   ],
   "source": [
    "demo = gr.Interface(\n",
    "    fn=on_text_submit,\n",
    "    inputs=[\"text\", \"checkbox\"],\n",
    "    outputs=\"text\",\n",
    "    )\n",
    "    \n",
    "demo.launch()"
   ]
  }
 ],
 "metadata": {
  "kernelspec": {
   "display_name": "semantle",
   "language": "python",
   "name": "python3"
  },
  "language_info": {
   "codemirror_mode": {
    "name": "ipython",
    "version": 3
   },
   "file_extension": ".py",
   "mimetype": "text/x-python",
   "name": "python",
   "nbconvert_exporter": "python",
   "pygments_lexer": "ipython3",
   "version": "3.12.0"
  },
  "orig_nbformat": 4
 },
 "nbformat": 4,
 "nbformat_minor": 2
}
